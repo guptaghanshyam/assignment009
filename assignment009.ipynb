{
 "cells": [
  {
   "attachments": {},
   "cell_type": "markdown",
   "metadata": {},
   "source": [
    "Q1. What is Abstraction in OOps? Explain with an example.\n"
   ]
  },
  {
   "attachments": {},
   "cell_type": "markdown",
   "metadata": {},
   "source": [
    "Ans: Abstraction help in data hiding process , its help in showing essecential features without showing the detailed and functionality to the user.it avoid unnecessary information and show only that specific part which user want to see."
   ]
  },
  {
   "cell_type": "code",
   "execution_count": 6,
   "metadata": {},
   "outputs": [
    {
     "name": "stdout",
     "output_type": "stream",
     "text": [
      "Bark!\n",
      "Meow!\n"
     ]
    }
   ],
   "source": [
    "class Animal(ABC):\n",
    "    def sound(self):\n",
    "        pass\n",
    "\n",
    "class Dog(Animal):\n",
    "    def sound(self):\n",
    "        print(\"Bark!\")\n",
    "\n",
    "class Cat(Animal):\n",
    "    def sound(self):\n",
    "        print(\"Meow!\")\n",
    "\n",
    "my_dog = Dog()\n",
    "my_cat = Cat()\n",
    "\n",
    "my_dog.sound()\n",
    "my_cat.sound()\n"
   ]
  },
  {
   "attachments": {},
   "cell_type": "markdown",
   "metadata": {},
   "source": [
    "Q2. Differentiate between Abstraction and Encapsulation. Explain with an example."
   ]
  },
  {
   "attachments": {},
   "cell_type": "markdown",
   "metadata": {},
   "source": [
    "Ans :Abstraction and encapsulation are both important concepts in object-oriented programming (OOP), but they have different meanings and purposes.\n",
    "\n",
    "Abstraction is the process of focusing on essential features of an object and ignoring irrelevant details. It is a way of managing complexity by simplifying the representation of an object. Abstraction allows us to create models of complex systems that are easier to understand and work with.\n",
    "\n",
    "Encapsulation, on the other hand, is the process of hiding the implementation details of an object from the outside world. It is a way of protecting an object's internal state and behavior from being modified by external code. Encapsulation ensures that the object is accessed only through a well-defined interface, and that the object's internal state cannot be changed without going through that interface."
   ]
  },
  {
   "cell_type": "code",
   "execution_count": 8,
   "metadata": {},
   "outputs": [],
   "source": [
    "class bankaccount :\n",
    "    def __init__(self ,balance) :\n",
    "        self.balance=balance\n",
    "\n",
    "    def deposit(self , amount) :\n",
    "        self.amount+=amount\n",
    "\n",
    "    def withdraw(self ,amount) :\n",
    "        if amount <=self.balance :\n",
    "\n",
    "\n",
    "            self.amount-=amount \n",
    "\n",
    "        else:\n",
    "        \n",
    "             print(\"Insufficient funds\")\n",
    "            \n",
    "    def get_balance(self):\n",
    "        return self._balance"
   ]
  },
  {
   "attachments": {},
   "cell_type": "markdown",
   "metadata": {},
   "source": [
    "Q3.What is abc module in python? Why is it used?"
   ]
  },
  {
   "attachments": {},
   "cell_type": "markdown",
   "metadata": {},
   "source": [
    "Ans :The abc module in Python stands for \"Abstract Base Classes\". It provides a way to define abstract classes that can't be instantiated on their own but can be subclassed to provide concrete implementations.\n",
    "\n",
    "Abstract base classes are used to enforce certain design patterns and contracts in code, and to ensure that classes that implement certain functionality have a common interface. They help in making the code more modular, extensible, and maintainable.\n"
   ]
  },
  {
   "attachments": {},
   "cell_type": "markdown",
   "metadata": {},
   "source": [
    "Q4. How can we achieve data abstraction?"
   ]
  },
  {
   "attachments": {},
   "cell_type": "markdown",
   "metadata": {},
   "source": [
    "Ans :\n",
    "We can achieve data abstraction in programming by defining abstract data types (ADTs) that encapsulate the data and its related operations. ADTs provide a way to separate the implementation details of the data from its interface, allowing us to work with the data at a higher level of abstraction.\n",
    "\n",
    "Here are some steps to achieve data abstraction:\n",
    "\n",
    "Identify the data that needs to be abstracted: Determine what data needs to be encapsulated and define its properties.\n",
    "\n",
    "Define the abstract data type: Define a class or interface that defines the properties and operations of the data type. This class or interface will provide the abstraction layer that hides the implementation details of the data.\n",
    "\n",
    "Implement the abstract data type: Implement the class or interface with the specific data structure and algorithms that will be used to store and manipulate the data. The implementation should be hidden from the user and only the interface should be exposed.\n",
    "\n",
    "Use the abstract data type: Use the abstract data type to work with the data at a higher level of abstraction, without needing to know how the data is actually stored or manipulated."
   ]
  },
  {
   "attachments": {},
   "cell_type": "markdown",
   "metadata": {},
   "source": [
    "Q5. Can we create an instance of an abstract class? Explain your answer."
   ]
  },
  {
   "attachments": {},
   "cell_type": "markdown",
   "metadata": {},
   "source": [
    "Ans:No, we cannot create an instance of an abstract class in Python or any other programming language that supports abstract classes. An abstract class is a class that is meant to be subclassed but not instantiated on its own.\n",
    "\n",
    "An abstract class contains one or more abstract methods, which are defined but not implemented. Abstract methods are meant to be overridden by the subclasses to provide concrete implementations.\n",
    "\n",
    "Attempting to create an instance of an abstract class will result in a TypeError, because the abstract class itself doesn't provide a concrete implementation for its abstract methods.\n"
   ]
  },
  {
   "cell_type": "code",
   "execution_count": null,
   "metadata": {},
   "outputs": [],
   "source": []
  }
 ],
 "metadata": {
  "kernelspec": {
   "display_name": "base",
   "language": "python",
   "name": "python3"
  },
  "language_info": {
   "codemirror_mode": {
    "name": "ipython",
    "version": 3
   },
   "file_extension": ".py",
   "mimetype": "text/x-python",
   "name": "python",
   "nbconvert_exporter": "python",
   "pygments_lexer": "ipython3",
   "version": "3.10.9"
  },
  "orig_nbformat": 4
 },
 "nbformat": 4,
 "nbformat_minor": 2
}
